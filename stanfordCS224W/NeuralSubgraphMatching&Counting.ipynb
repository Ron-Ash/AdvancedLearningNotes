{
 "cells": [
  {
   "cell_type": "markdown",
   "id": "188e8710",
   "metadata": {},
   "source": [
    "## Subgraph\n",
    "Give a graph $G=(V,E)$, either:\n",
    "1. $G'$ is a subgraph of $G$ ***induced*** by $V'$, where $G'=(V',E')$ such that $V'\\subseteq V$ and $E'=\\{(u,v)\\in E | u,v\\in V'\\}$\n",
    "2. $G'$ is a subgraph of $G$ ***induced*** by $E'$, where $G'=(V',E')$ such that $E'\\subseteq E$ and $V'=\\{v\\in V | (v,u)\\in E'\\}$"
   ]
  }
 ],
 "metadata": {
  "language_info": {
   "name": "python"
  }
 },
 "nbformat": 4,
 "nbformat_minor": 5
}
