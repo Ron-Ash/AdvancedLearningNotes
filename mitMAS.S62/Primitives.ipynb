{
 "cells": [
  {
   "cell_type": "markdown",
   "id": "ee6ac448",
   "metadata": {},
   "source": [
    "# Primitives\n",
    "## History of Money\n",
    "\n",
    "Money is thought to have emerged as a solution to the *coincidence of wants* problem; where two parties must each have something the other wants at the same time and in the right quantity for a bartering system to succeed. Due to this inefficiency, a shared and agreed to *medium of exchange* is used to facilitate transactions irespective of a direct barter. \n",
    "\n",
    "Another theory pertains to money formalizing the right which the creditor acquires to \"*payment*\" and the obligation of the debtor to *pay* his debt. As well as the standardisation of \"*payment*\" such that the debtor has the right to release himself from his debt irespective of the creditor's personal preferences and is obligated to accept.\n",
    "\n",
    "In the modern day, parties exchange money for goods mostly via ***Digital Payments***; where the buyer initiates a request from a *trusted institution* to transfer funds from their account to their counterpart's account. Once the sender's identifty is verified and their request is validated, the institution's internal ***ledger*** (current record of all holdings of individuals) is updated to reflect the requested transfer. Once seller verifies the transfer independently, the goods are transfered to the buyer. While this is convinient, this requires a *centralised source of truth* which handles paymets for the parties. This means that the *trusted institution* must be always available and able to facilitate transactions (no peer-to-peer, can fail). It additionally gives undo power to the *trusted institution* to delay or censor transactions, as well as breach the privacy of the interacting parties.\n",
    "\n",
    "***E-cash*** attempted to mitigate some of these issues by having the *trusted institution* be able to deduct an amount requested by a user and issues them a digital certificate representing that value (typically cryptograqphically signed to prevent forgery and ensure authenticity).This certificate could be held offline and anonymously by the user, enabling private transactions with sellers without needing to contact the institution during the exchange. In practice however, the seller often verifies the certificate with the issuing institution before completing the transaction, requiring the institution to be constantly available. Moreover, these systems do not offer true privacy from the institution (thereby no protection against delay or censor transactions) or protection against loss of funds in the event of institutional failure, limiting their effectiveness as a secure and independent form of digital cash. *Chaumian E-cash* alters the procedure to provide privacy to the trasacting parties."
   ]
  }
 ],
 "metadata": {
  "language_info": {
   "name": "python"
  }
 },
 "nbformat": 4,
 "nbformat_minor": 5
}
