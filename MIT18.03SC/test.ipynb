{
 "cells": [
  {
   "cell_type": "markdown",
   "id": "25ca7559",
   "metadata": {},
   "source": [
    "# First Order Differential Equations\n",
    "## Preliminaries\n",
    "Of primary importance is the ***exponential function*** $x(t)=e^{at}$, $a\\in\\mathbb{R}$ due to its various properties $e^0=1$, $e^{at+c}=e^ce^{at}$, $\\forall a,t\\in\\mathbb{R},\\;e^{at}\\neq 0$, $a>0,\\;\\lim_{t\\rightarrow+\\infty}=\\infty \\text{ and } \\lim_{t\\rightarrow-\\infty}=0$, and that $x'(t)=ae^{t}$; therefore meaning that it grows (or shrinks) faster than any polynomial function (proof by ***L'Hopital***'s rule $\\lim_{x\\rightarrow c}\\frac{f(x)}{g(x)}=\\lim_{x\\rightarrow c}\\frac{f'(x)}{g'(x)}$).\n",
    "\n",
    "when a function is written such as $f(x)=3x^2+2x+1$, $x$ is defined as the ***independent variable*** as it can be freely set to any value within the given domain and the value of the function is then computed; giving a name to the value of the function, $y=f(x)$, creates the ***dependent variable*** $y$ as it *depends* on the value chosen for $x$. ***Parameters*** on the other hand are used to describe a set of similar 'objects'; as an example $\\int t^2 dt=t^3/3+c$, where $c$ is called the parameter of the set of all the antiderivates of $t^2$ (each value of $c$ specifies a single antiderivative). Thus, the set of of functions $\\{t^3/3+c:c\\in\\mathbb{R}\\}$ are all similar in structure and are so called ***1-parameter family of functions***.\n",
    "\n",
    "The ***Derivative*** of $y$ with respect to $x$ is denoted by $\\frac{dy}{dx}$, $y'$, or $Dy$; and so the $n^{th}$ *derivative* can be denoted as $\\frac{d^ny}{dx^n}$, $y^{(n)}$, or $D^ny$.\n",
    "\n",
    "A ***Differential Equation*** (***DE***) is an equation expressed as a relation between a function and its *derivative* (find $f(t)=x$ if $x''+8x'+7x=0$, etc.). When the function in the *differential equation* has a single *independent variable* it is called an ***Ordinary*** *differential equation* (***ODE***); meaning that the *derivatives* are *ordinary derivatives*, not ***partial*** *derivatives*.\n",
    "\n",
    "The ***Order*** of a *differential equation* is the *order* of the largest *derivative* appearing in it.\n",
    "\n",
    "Solving a *differential equation* means finding a function(s) (usually have more than one solution, and so can be described as a single function at once using *parameters*) that satisfies the equation, which can be a hard or impossible task. It is simple however, to *check* a proposed solution.\n",
    "\n",
    "If *DE* is accompanied with initial conditions, together they make an ***Initial Value Problem*** (***IVP***); where a solution to *DE* must also uphold the initial condition.\n",
    "\n",
    "The most important *DE* is $y'=ay$ whose solution is $y(t)=Ce^{at}$ where $C$ is a constant. This is said to model exponential ***growth*** ($a>0$) or ***decay*** ($a<0$), with $a$ being known as the *growth/decay* constant.\n",
    "\n",
    "## ***Seperation of Variables***\n",
    "$$\\frac{dy}{dx}=g(x)h(y)\\rightarrow\\frac{dy}{h(y)}=g(x)dx\\rightarrow\\int\\frac{dy}{h(y)}=\\int g(x)dx\\rightarrow y=l(x)$$\n",
    "\n",
    "The first technique for solving differential equations requires a ***seperable*** equation, using algebra to seperate the two *variables* including $dy$ and $dx$ (justified by the chain rule in the same way u-substitution is justified),then both sides can be integrated seperately and the final solution can be found.\n",
    "\n",
    "- **Example**) $y'=2x(1-y)^2\\rightarrow \\frac{dy}{(1-y)^2}=2xdx\\rightarrow \\int\\frac{dy}{(1-y)^2}=\\int 2xdx\\rightarrow \\frac{1}{1-y}=x^2+c\\rightarrow \\rightarrow y=1-\\frac{1}{x^2+c}$. Note that there is additionally the constant solution $y(x)=1$ (would cause both sides to become $0$) which was lost by the separation of variables method (lost in first step as $\\frac{dy}{(1-y)^2}$ is valid only if $y\\neq 1$).\n",
    "\n",
    "In general, all the ***roots*** (constant $a$ such that $h(a)=0$) of $h(y)$ give ***lost*** (constant) solutions."
   ]
  }
 ],
 "metadata": {
  "language_info": {
   "name": "python"
  }
 },
 "nbformat": 4,
 "nbformat_minor": 5
}
