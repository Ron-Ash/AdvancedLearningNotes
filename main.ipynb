{
 "cells": [
  {
   "cell_type": "markdown",
   "metadata": {},
   "source": [
    "Network embedding are vector representations of graphs that capture local and global traits; more suitable for standard machine learning techniques (work on vectors rather than graphs). \n",
    "\n",
    "Feature-based embeddings are traditionaly used which attempt extract substructures from the graph into numerical form; these however produce sparse solutions as as only few subtructures are common across a graph. Data-driven methods learn optimise some objective function and as a result learn the graph embeddings; and as a result are harder to achieve but are not sparse. \n",
    "\n",
    "Random walks are the sequences of nodes, where each new node is selected independently from the set of neighbors of the last node in the sequence. Anonymous random walk remove the global names from each node in the sequence. \n",
    "\n",
    "Given a graph $G=(V,E,\\Omega)$ where $V=\\{v_1,v_2,...,v_n\\}$ is a set of vertices, $E\\subseteq V\\times V$ is a set of edges, and $\\Omega \\subset\\mathbb{R}$ is a set of edge weights; let $s=(u_1,u_2,...,u_k)$ be an ordered list of elements $u_i\\in V$, and function $pos:(s,u_i)\\rightarrow (p_1,...,p_l)$ return a list of all positions $p_j\\in\\mathbb{N}$ of $u_i$ occurence in a list $s$. If $s$ is a random walk, then its corresponding anonymous random walk is the sequence of integers $a=(f(v_1),f(v_2),...,f(v_n))$, where $f(v_i)=\\min_{p_j\\in pos(s,v_i)} pos(s,v_i)$\n",
    "\n",
    "Anonymous Walk Embedding has feature-based, and data-driven models:"
   ]
  },
  {
   "cell_type": "code",
   "execution_count": null,
   "metadata": {},
   "outputs": [],
   "source": [
    "def list_anonymous_walks_of_length_l(l,maxStartValue=0):\n",
    "    structure = []\n",
    "    if l <= 0: return structure\n",
    "    absluteMaxValue = maxStartValue+1\n",
    "    for i in range(1, absluteMaxValue +1):\n",
    "        substructure = list_anonymous_walks_of_length_l(l-1, max(i, maxStartValue))\n",
    "        if len(substructure) <= 0:\n",
    "            structure.append(i)\n",
    "            continue\n",
    "        for element in substructure:\n",
    "            structure.append(f\"{i}-{element}\")\n",
    "    return structure\n",
    "            \n",
    "# anonymousWalks11 = list_anonymous_walks_of_length_l(11)\n",
    "# anonymousWalks11.sort()"
   ]
  }
 ],
 "metadata": {
  "kernelspec": {
   "display_name": "Python 3",
   "language": "python",
   "name": "python3"
  },
  "language_info": {
   "codemirror_mode": {
    "name": "ipython",
    "version": 3
   },
   "file_extension": ".py",
   "mimetype": "text/x-python",
   "name": "python",
   "nbconvert_exporter": "python",
   "pygments_lexer": "ipython3",
   "version": "3.10.2"
  }
 },
 "nbformat": 4,
 "nbformat_minor": 2
}
