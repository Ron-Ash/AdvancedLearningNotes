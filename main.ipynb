{
 "cells": [
  {
   "cell_type": "code",
   "execution_count": 29,
   "metadata": {},
   "outputs": [
    {
     "name": "stderr",
     "output_type": "stream",
     "text": [
      "c:\\Users\\ashri\\AppData\\Local\\Programs\\Python\\Python310\\lib\\site-packages\\tqdm\\auto.py:21: TqdmWarning: IProgress not found. Please update jupyter and ipywidgets. See https://ipywidgets.readthedocs.io/en/stable/user_install.html\n",
      "  from .autonotebook import tqdm as notebook_tqdm\n",
      "c:\\Users\\ashri\\AppData\\Local\\Programs\\Python\\Python310\\lib\\site-packages\\huggingface_hub\\file_download.py:142: UserWarning: `huggingface_hub` cache-system uses symlinks by default to efficiently store duplicated files but your machine does not support them in C:\\Users\\ashri\\.cache\\huggingface\\hub\\datasets--graphs-datasets--PROTEINS. Caching files will still work but in a degraded version that might require more space on your disk. This warning can be disabled by setting the `HF_HUB_DISABLE_SYMLINKS_WARNING` environment variable. For more details, see https://huggingface.co/docs/huggingface_hub/how-to-cache#limitations.\n",
      "To support symlinks on Windows, you either need to activate Developer Mode or to run Python as an administrator. In order to activate developer mode, see this article: https://docs.microsoft.com/en-us/windows/apps/get-started/enable-your-device-for-development\n",
      "  warnings.warn(message)\n",
      "Generating train split: 100%|██████████| 1113/1113 [00:00<00:00, 36924.84 examples/s]\n"
     ]
    }
   ],
   "source": [
    "# pip install torch_geometric\n",
    "# pip install datasets\n",
    "from datasets import load_dataset\n",
    "\n",
    "from torch_geometric.data import Data\n",
    "from torch_geometric.loader import DataLoader\n",
    "\n",
    "dataset_hf = load_dataset(\"graphs-datasets/PROTEINS\")\n",
    "dataset_pg_list = [Data(graph) for graph in dataset_hf[\"train\"]]\n",
    "dataset_pg = DataLoader(dataset_pg_list)"
   ]
  },
  {
   "cell_type": "markdown",
   "metadata": {},
   "source": [
    "Network embedding are vector representations of graphs that capture local and global traits; more suitable for standard machine learning techniques (work on vectors rather than graphs). \n",
    "\n",
    "Feature-based embeddings are traditionaly used which attempt extract substructures from the graph into numerical form; these however produce sparse solutions as as only few subtructures are common across a graph. Data-driven methods learn optimise some objective function and as a result learn the graph embeddings; and as a result are harder to achieve but are not sparse. \n",
    "\n",
    "Random walks are the sequences of nodes, where each new node is selected independently from the set of neighbors of the last node in the sequence. Anonymous random walk remove the global names from each node in the sequence. \n",
    "\n",
    "Given a graph $G=(V,E,\\Omega)$ where $V=\\{v_1,v_2,...,v_n\\}$ is a set of vertices, $E\\subseteq V\\times V$ is a set of edges, and $\\Omega \\subset\\mathbb{R}$ is a set of edge weights; let $s=(u_1,u_2,...,u_k)$ be an ordered list of elements $u_i\\in V$, and function $pos:(s,u_i)\\rightarrow (p_1,...,p_l)$ return a list of all positions $p_j\\in\\mathbb{N}$ of $u_i$ occurence in a list $s$. If $s$ is a random walk, then its corresponding anonymous random walk is the sequence of integers $a=(f(v_1),f(v_2),...,f(v_n))$, where $f(v_i)=\\min_{p_j\\in pos(s,v_i)} pos(s,v_i)$ (for a given walk length, there is a set number fo possible anonymous random walks)"
   ]
  },
  {
   "cell_type": "code",
   "execution_count": null,
   "metadata": {},
   "outputs": [],
   "source": [
    "def list_anonymous_walks_of_length_l(l,maxStartValue=0):\n",
    "    structure = []\n",
    "    if l <= 0: return structure\n",
    "    absluteMaxValue = maxStartValue+1\n",
    "    for i in range(1, absluteMaxValue +1):\n",
    "        substructure = list_anonymous_walks_of_length_l(l-1, max(i, maxStartValue))\n",
    "        if len(substructure) <= 0:\n",
    "            structure.append(i)\n",
    "            continue\n",
    "        for element in substructure:\n",
    "            structure.append(f\"{i}-{element}\")\n",
    "    return structure\n",
    "            \n",
    "# anonymousWalks11 = list_anonymous_walks_of_length_l(11)\n",
    "# anonymousWalks11.sort()"
   ]
  },
  {
   "cell_type": "markdown",
   "metadata": {},
   "source": [
    "It has been shown by https://dspace.mit.edu/handle/1721.1/114241 that given the distribution of random walks of length $l$ from a node $u$, $\\mathcal{D_l}$ (from it, one can simulate access to the distributions $\\mathcal{D_1},...,\\mathcal{D_{l-1}}$), reconstruction of $B(v,r)$ is possible; a ball of centre $v$ and radius $r$ (subgraph of $G$ induced by all vertices whose distance from $v$ is at most $r$)\n",
    "\n",
    "Using this, https://arxiv.org/abs/1805.11921 devised a feature-based and data-driven models for anonymous walk graph embeddings:"
   ]
  },
  {
   "cell_type": "markdown",
   "metadata": {},
   "source": [
    "## Feature-Based model\n",
    "Let $\\mathcal{A_l}=(a_1,a_2,...,a_\\eta)$ be the set of all possible anonymous walks of length $l$; the vector $f_G=(\\mathbb{P}(a_1), \\mathbb{P}(a_2), ..., \\mathbb{P}(a_\\eta))$ then will be the anonymous walk embedding of graph $G$.\n",
    "\n",
    "Where the probability of a anonymous random walk $a_i$, is $\\mathbb{P}(a_i)=\\frac{1}{N}\\sum_{u\\in G}\\mathbb{P}(a_i^u)=\\frac{1}{N}\\sum_{u\\in G}\\sum_{w\\rightarrow a_i\\in W_l^u}\\mathbb{P}(w)$, the sum of all **random walk probabilities** which convert to the same anonymous random walk across all nodes in the graph.\n",
    "\n",
    "Random walk probability, $\\mathbb{P}(w)=\\prod_{e\\in w}\\frac{w_e}{\\sum_{v\\in N_{\\text{out}}}w_{(u,v)}}$; is the probabilty of a given random walk $w$, as the product of the probability of moving across any given edge $w_e$ in $w$."
   ]
  },
  {
   "cell_type": "markdown",
   "metadata": {},
   "source": [
    "To achieve this, a running time of $O(nl(d_in^{max}d_out^{max})^{l/2})$ is needed ($d^{max}_{in|out}$ is the maximum in/out degree in graph $G$). However, sampling can be used to generate an empirical distribution $\\mathscr{D}^m$ of the original distribution $\\mathscr{D}_l$ such that $\\mathbb{P}\\{||\\mathscr{D}^m- \\mathscr{D}_l||_1>\\epsilon\\}\\leq \\sigma, \\epsilon>0, \\sigma\\in [0,1]$ if the numer 0f samples are $$m=\\lceil \\frac{2}{\\epsilon^2}(\\log(2^\\eta-2)-\\log(\\sigma))\\rceil$$"
   ]
  },
  {
   "cell_type": "code",
   "execution_count": 89,
   "metadata": {},
   "outputs": [
    {
     "data": {
      "image/png": "[encoded data removed]",
      "text/plain": [
       "<Figure size 500x500 with 1 Axes>"
      ]
     },
     "metadata": {},
     "output_type": "display_data"
    }
   ],
   "source": [
    "import torch\n",
    "from torch_geometric.data import Data\n",
    "import networkx as nx\n",
    "import matplotlib.pyplot as plt\n",
    "\n",
    "# Define edges (source -> target)\n",
    "edge_index = torch.tensor([[0, 1, 1, 2, 2, 3],  # Source nodes\n",
    "                           [1, 3, 2, 1, 3, 3]], dtype=torch.long)  # Target nodes\n",
    "\n",
    "# Create graph data\n",
    "graph = Data(edge_index=edge_index)\n",
    "\n",
    "# Convert to NetworkX for visualization\n",
    "G = nx.DiGraph()\n",
    "edges = edge_index.t().tolist()\n",
    "G.add_edges_from(edges)\n",
    "\n",
    "# Draw the graph\n",
    "plt.figure(figsize=(5, 5))\n",
    "nx.draw(G, with_labels=True, node_color='lightblue', edge_color='gray', node_size=500, font_size=12)\n",
    "plt.show()"
   ]
  },
  {
   "cell_type": "markdown",
   "metadata": {},
   "source": [
    "## Data-Driven model\n",
    "iterate over each vertex $u$ in a graph $G$, sampling $T$ random walks $(w_1^u,w_2^u,...,w_T^u)$ that starts at node $u$ and map to a sequence of **co-occured** anonymous walks $s^u=(a_1^u,a_2^u,...,a_T^u)$. The collection of all $s^u$ for all vertices $u\\in G$ is a corpus of co-occured anonymous walks in a graph.\n",
    "\n",
    "Formally then, a sequence of co-occured anonymous walks $s=(a_1^u,a_2^u,...,a_T^u)$ corresponds to vectors $\\text{w}_1,\\text{w}_2,...,\\text{w}_T$ of anonymous walks matrix $\\text{W}\\in\\mathbb{R}^\\eta\\times\\mathbb{R}^{d_a}$, and a graph $G$ corresponding to vector $\\text{d}\\in\\mathbb{R}^{d_g}$. The model then tries to predict a target anonymous walk given co-occuring context anonymous walks and a graph: $$\\max\\frac{1}{T}\\sum_{t=\\Delta}^{T-\\Delta}\\log\\mathbb{P}(\\text{w}_t|\\text{w}_{t-\\Delta},...,\\text{w}_{t+\\Delta},\\text{d})$$ for window size $\\Delta$ ($T=k\\Delta, k>3$), where the probability is defined objectively via softmax function (requires enough samples such that any given walk $\\text{w}_i, i\\in \\{1,...,\\eta\\}$ has at least $\\Delta$ walks before and after it in the sample sequence) \n",
    "\n",
    "$$\\mathbb{P}(\\text{w}_t|\\text{w}_{t-\\Delta},...,\\text{w}_{t+\\Delta},\\text{d})=\\frac{e^{y(\\text{w}_t)}}{\\sum_{i=1}^\\eta e^{y(\\text{w}_i)}}, y(\\text{w}_t)=b+U\\text{concat}(\\frac{1}{2\\Delta}\\sum_{j=-\\Delta}^\\Delta\\text{w}_{t+j}, \\text{d})$$ \n",
    "$ b\\in\\mathbb{R}, U\\in\\mathbb{R}^{d_a+d_g}$ (softmax parameters)"
   ]
  }
 ],
 "metadata": {
  "kernelspec": {
   "display_name": "Python 3",
   "language": "python",
   "name": "python3"
  },
  "language_info": {
   "codemirror_mode": {
    "name": "ipython",
    "version": 3
   },
   "file_extension": ".py",
   "mimetype": "text/x-python",
   "name": "python",
   "nbconvert_exporter": "python",
   "pygments_lexer": "ipython3",
   "version": "3.10.2"
  }
 },
 "nbformat": 4,
 "nbformat_minor": 2
}
